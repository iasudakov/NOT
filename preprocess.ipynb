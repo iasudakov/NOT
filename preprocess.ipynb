{
 "cells": [
  {
   "cell_type": "code",
   "execution_count": null,
   "metadata": {},
   "outputs": [],
   "source": [
    "import matplotlib.pyplot as plt\n",
    "# %matplotlib inline \n",
    "import numpy as np\n",
    "import torch\n",
    "\n",
    "import torch.nn.functional as F\n",
    "from torchvision.transforms import Compose, Resize, Normalize, ToTensor\n",
    "from torch.utils import data\n",
    "import gc\n",
    "\n",
    "import wandb\n",
    "\n",
    "from tqdm import tqdm_notebook as tqdm\n",
    "from IPython.display import clear_output"
   ]
  },
  {
   "cell_type": "code",
   "execution_count": null,
   "metadata": {},
   "outputs": [],
   "source": [
    "from src.data import DefaultDataset\n",
    "from src.data import LoaderSampler\n",
    "\n",
    "from src.resnet import ResNet_D\n",
    "from src.unet import UNet\n",
    "\n",
    "from src.tools import fig2data, fig2img\n",
    "\n",
    "from src.tools import freeze, unfreeze, weights_init_D, plot_images, plot_random_images"
   ]
  },
  {
   "cell_type": "code",
   "execution_count": null,
   "metadata": {},
   "outputs": [],
   "source": [
    "assert torch.cuda.is_available()\n",
    "torch.cuda.set_device(f'cuda:0')"
   ]
  },
  {
   "cell_type": "code",
   "execution_count": null,
   "metadata": {},
   "outputs": [],
   "source": [
    "# ! bash download.sh celeba-hq-dataset"
   ]
  },
  {
   "cell_type": "code",
   "execution_count": null,
   "metadata": {},
   "outputs": [],
   "source": [
    "# ! kaggle datasets download reitanaka/alignedanimefaces\n",
    "# ! unzip /home/sudakovcom/Desktop/diffusion/NOT/NeuralOptimalTransport/datasets/alignedanimefaces.zip"
   ]
  },
  {
   "cell_type": "markdown",
   "metadata": {},
   "source": [
    "## Preprocessing of aligned anime faces\n",
    "Cropping & aligning with celeba (rescaled) faces"
   ]
  },
  {
   "cell_type": "code",
   "execution_count": null,
   "metadata": {},
   "outputs": [],
   "source": [
    "from PIL import Image\n",
    "import os\n",
    "from tqdm import tqdm_notebook"
   ]
  },
  {
   "cell_type": "code",
   "execution_count": null,
   "metadata": {},
   "outputs": [],
   "source": [
    "def center_crop(im, size):\n",
    "    left = int(im.size[0]/2-size/2)\n",
    "    upper = int(im.size[1]/2-size/2)\n",
    "    right = left + size\n",
    "    lower = upper + size\n",
    "    \n",
    "    return im.crop((left, upper,right,lower))\n",
    "\n",
    "def noncenter_crop(im, size, shift=(0,0)):\n",
    "    left = int(im.size[0]/2-size/2) + shift[0]\n",
    "    upper = int(im.size[1]/2-size/2) + shift[1]\n",
    "    right = left + size\n",
    "    lower = upper + size\n",
    "    \n",
    "    return im.crop((left, upper,right,lower))"
   ]
  },
  {
   "cell_type": "code",
   "execution_count": null,
   "metadata": {},
   "outputs": [],
   "source": [
    "# path = '/home/sudakovcom/safebooru_jpeg'\n",
    "# files = os.listdir(path)"
   ]
  },
  {
   "cell_type": "code",
   "execution_count": null,
   "metadata": {},
   "outputs": [],
   "source": [
    "def preprocess_anime_face(path_in_out):\n",
    "    in_path, out_path = path_in_out\n",
    "    im = Image.open(in_path).resize((512,512))\n",
    "    im = noncenter_crop(im, 256, (0, -14)).resize((128, 128))\n",
    "    im.save(out_path)"
   ]
  },
  {
   "cell_type": "code",
   "execution_count": null,
   "metadata": {},
   "outputs": [],
   "source": [
    "# in_paths = [os.path.join(path, file) for file in files]\n",
    "\n",
    "# out_path = '/home/sudakovcom/Desktop/diffusion/NOT/NeuralOptimalTransport/datasets/anime_faces'\n",
    "# out_names = [os.path.join(out_path, f'{i}.png') for i in range(len(files))]\n",
    "\n",
    "# if not os.path.exists(out_path):\n",
    "#     os.makedirs(out_path)"
   ]
  },
  {
   "cell_type": "code",
   "execution_count": null,
   "metadata": {},
   "outputs": [],
   "source": [
    "# from multiprocessing import Pool\n",
    "# import time\n",
    "\n",
    "# start = time.time()\n",
    "# with Pool(64) as p:\n",
    "#     p.map(preprocess_anime_face, list(zip(in_paths, out_names)))\n",
    "# end = time.time()\n",
    "# print(end-start)"
   ]
  },
  {
   "cell_type": "markdown",
   "metadata": {},
   "source": [
    "# Calculate statistics for metrics"
   ]
  },
  {
   "cell_type": "code",
   "execution_count": null,
   "metadata": {},
   "outputs": [],
   "source": [
    "T_ITERS = 10\n",
    "# f_LR, T_LR = 1e-4, 1e-4\n",
    "f_LR, T_LR = 1e-3, 1e-3\n",
    "IMG_SIZE = 128\n",
    "BATCH_SIZE = 64\n",
    "PLOT_INTERVAL = 20\n",
    "COST = 'mse' # Mean Squared Error\n",
    "CPKT_INTERVAL = 1000\n",
    "MAX_STEPS = 100001\n",
    "SEED = 0x000000"
   ]
  },
  {
   "cell_type": "code",
   "execution_count": null,
   "metadata": {},
   "outputs": [],
   "source": [
    "transform = Compose([Resize((IMG_SIZE, IMG_SIZE)), ToTensor(), Normalize((0.5, 0.5, 0.5), (0.5, 0.5, 0.5))])\n",
    "\n",
    "dataset_celeba = DefaultDataset('/home/sudakovcom/Desktop/diffusion/NOT/datasets/celeba_hq/train/female', transform=transform)\n",
    "dataset_anime = DefaultDataset('/home/sudakovcom/Desktop/diffusion/NOT/datasets/anime_faces', transform=transform)\n",
    "\n",
    "dataloader_celeba = data.DataLoader(dataset=dataset_celeba, batch_size=BATCH_SIZE, num_workers=4, pin_memory=True, drop_last=True)\n",
    "dataloader_anime = data.DataLoader(dataset=dataset_anime, batch_size=BATCH_SIZE, num_workers=4, pin_memory=True, drop_last=True)\n",
    "\n",
    "sampler_celeba = LoaderSampler(dataloader_celeba, device='cuda')\n",
    "sampler_anime = LoaderSampler(dataloader_anime, device='cuda')\n",
    "\n",
    "print(len(dataset_celeba), len(dataset_anime))"
   ]
  },
  {
   "cell_type": "code",
   "execution_count": null,
   "metadata": {},
   "outputs": [],
   "source": [
    "from src.tools import get_loader_stats, calculate_frechet_distance, get_pushed_loader_stats"
   ]
  },
  {
   "cell_type": "code",
   "execution_count": null,
   "metadata": {},
   "outputs": [],
   "source": [
    "mu_celeba, sigma_celeba = get_loader_stats(sampler_celeba.loader)\n",
    "mu_anime, sigma_anime = get_loader_stats(sampler_anime.loader)\n",
    "\n",
    "np.save('/home/sudakovcom/Desktop/diffusion/NOT/stats/mu_celeba.npy', mu_celeba)\n",
    "np.save('/home/sudakovcom/Desktop/diffusion/NOT/stats/sigma_celeba.npy', sigma_celeba)\n",
    "np.save('/home/sudakovcom/Desktop/diffusion/NOT/stats/mu_anime.npy', mu_anime)\n",
    "np.save('/home/sudakovcom/Desktop/diffusion/NOT/stats/sigma_anime.npy', sigma_anime)"
   ]
  }
 ],
 "metadata": {
  "kernelspec": {
   "display_name": ".conda",
   "language": "python",
   "name": "python3"
  },
  "language_info": {
   "name": "python",
   "version": "3.9.20"
  }
 },
 "nbformat": 4,
 "nbformat_minor": 2
}
